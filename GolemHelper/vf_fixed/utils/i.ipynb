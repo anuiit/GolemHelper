{
 "cells": [
  {
   "cell_type": "code",
   "execution_count": 1,
   "metadata": {},
   "outputs": [],
   "source": [
    "import requests\n",
    "import json\n",
    "import aiohttp\n",
    "import asyncio\n",
    "import json"
   ]
  },
  {
   "cell_type": "code",
   "execution_count": 2,
   "metadata": {},
   "outputs": [],
   "source": [
    "PATCH = \"14.22.1\"\n",
    "all_data = {}\n",
    "patch_champions_id = []\n",
    "\n",
    "base_data = f\"https://ddragon.leagueoflegends.com/cdn/{PATCH}/data/en_US/champion.json\"\n",
    "\n",
    "request = requests.get(base_data)\n",
    "data = request.json()\n",
    "\n",
    "for champion in data[\"data\"].values():\n",
    "    patch_champions_id.append(champion.get(\"key\"))\n"
   ]
  },
  {
   "cell_type": "code",
   "execution_count": 10,
   "metadata": {},
   "outputs": [],
   "source": [
    "async def download_image_splash(session, url, champion_name):\n",
    "    async with session.get(url) as response:\n",
    "        if response.status == 200:\n",
    "            content = await response.read()\n",
    "            champion_name = champion_name.replace(\"'\", \"\").replace(\" \", \"\").strip().lower().capitalize()\n",
    "            with open(f\"champions-splash/{champion_name}_splash_centered.jpg\", \"wb\") as f:\n",
    "                f.write(content)\n",
    "\n",
    "async def download_image_square(session, url, champion_name):\n",
    "    async with session.get(url) as response:\n",
    "        if response.status == 200:\n",
    "            content = await response.read()\n",
    "            champion_name = champion_name.replace(\"'\", \"\").replace(\" \", \"\").strip().lower().capitalize()\n",
    "            with open(f\"champions-square/{champion_name}_square.jpg\", \"wb\") as f:\n",
    "                f.write(content)\n",
    "\n",
    "async def fetch_champion_data(session, champion_id):\n",
    "    async with session.get(f\"https://cdn.communitydragon.org/{PATCH}/champion/{str(champion_id)}/data\") as response:\n",
    "        data = await response.json()\n",
    "        champ_data = {\n",
    "            \"name\": data[\"name\"].replace(\"'\", \"\").replace(\" \", \"\").strip().lower().capitalize(),\n",
    "            \"title\": data[\"title\"],\n",
    "            \"tacticalInfo\": data[\"tacticalInfo\"],\n",
    "            \"playstyleInfo\": data[\"playstyleInfo\"],\n",
    "            \"roles\": data[\"roles\"],\n",
    "        }\n",
    "        all_data[data[\"id\"]] = champ_data\n",
    "        image_splash_url = f\"https://cdn.communitydragon.org/{PATCH}/champion/{str(champion_id)}/splash-art/centered\"\n",
    "        image_square_url = f\"https://cdn.communitydragon.org/{PATCH}/champion/{str(champion_id)}/square\"\n",
    "        \n",
    "        await download_image_splash(session, image_splash_url, data[\"name\"])\n",
    "        await download_image_square(session, image_square_url, data[\"name\"])\n",
    "\n",
    "async def main():\n",
    "    async with aiohttp.ClientSession() as session:\n",
    "        tasks = []\n",
    "        for c in patch_champions_id:\n",
    "            tasks.append(fetch_champion_data(session, c))\n",
    "        await asyncio.gather(*tasks)\n",
    "\n",
    "await main()\n",
    "\n",
    "with open(\"champions_data.json\", \"w\") as f:\n",
    "    json.dump(all_data, f, indent=4)"
   ]
  },
  {
   "cell_type": "code",
   "execution_count": 6,
   "metadata": {},
   "outputs": [
    {
     "name": "stdout",
     "output_type": "stream",
     "text": [
      "Number of images in champions-splash: 169\n",
      "Number of images in champions-square: 169\n"
     ]
    }
   ],
   "source": [
    "import os\n",
    "\n",
    "# count images in 'champions-splash' folder\n",
    "image_folder = ['champions-splash', 'champions-square']\n",
    "\n",
    "for folder in image_folder:\n",
    "    image_count = len([name for name in os.listdir(folder) if os.path.isfile(os.path.join(folder, name))])\n",
    "    print(f\"Number of images in {folder}: {image_count}\")\n"
   ]
  },
  {
   "cell_type": "code",
   "execution_count": null,
   "metadata": {},
   "outputs": [],
   "source": []
  }
 ],
 "metadata": {
  "kernelspec": {
   "display_name": "Python 3",
   "language": "python",
   "name": "python3"
  },
  "language_info": {
   "codemirror_mode": {
    "name": "ipython",
    "version": 3
   },
   "file_extension": ".py",
   "mimetype": "text/x-python",
   "name": "python",
   "nbconvert_exporter": "python",
   "pygments_lexer": "ipython3",
   "version": "3.11.4"
  }
 },
 "nbformat": 4,
 "nbformat_minor": 2
}
